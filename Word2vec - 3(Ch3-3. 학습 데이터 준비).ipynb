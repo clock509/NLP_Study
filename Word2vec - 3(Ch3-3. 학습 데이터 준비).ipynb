{
 "cells": [
  {
   "cell_type": "code",
   "execution_count": null,
   "metadata": {},
   "outputs": [],
   "source": [
    "# 데이터: You say goodbye and I say hello."
   ]
  },
  {
   "cell_type": "markdown",
   "metadata": {},
   "source": [
    "# 3-3-1. 맥락과 타깃\n",
    " - word2vec에서 이용하는 신경망의 입력: 맥락(context)\n",
    " - 맥락의 정답 레이블: 맥락에 둘러싸인 단어(= target)\n",
    " - 신경망에 맥락을 입력했을 때 타깃이 출현할 확률을 높이는 것이 목표. "
   ]
  },
  {
   "cell_type": "markdown",
   "metadata": {},
   "source": [
    "#### 문장 데이터로부터 맥락과 타깃 구분하기\n",
    " - 데이터: You say goodbye and I say hello. \n",
    " \n",
    " - 타깃 say : 맥락 you, goodbye\n",
    " - 타깃 goodbye : 맥락 say, and\n",
    " - 타깃 and : 맥락 goodbye, I\n",
    " - 타깃 I : 맥락 and, say\n",
    " - 타깃 say : 맥락 I, hello\n",
    " - 타깃 hello: 맥락 say, ."
   ]
  },
  {
   "cell_type": "code",
   "execution_count": 6,
   "metadata": {},
   "outputs": [
    {
     "name": "stdout",
     "output_type": "stream",
     "text": [
      "[0 1 2 3 4 1 5 6]\n",
      "{0: 'you', 1: 'say', 2: 'goodbye', 3: 'and', 4: 'i', 5: 'hello', 6: '.'}\n"
     ]
    }
   ],
   "source": [
    "#코퍼스에서 맥락과 타깃을 만드는 함수를 구현하기 전에, 코퍼스 텍스트를 먼저 단어 ID로 변환해야 한다.\n",
    "import sys\n",
    "sys.path.append('..')\n",
    "from common.util import preprocess\n",
    "\n",
    "text = 'You say goodbye and I say hello.'\n",
    "corpus, word_to_id, id_to_word = preprocess(text)\n",
    "print(corpus)\n",
    "\n",
    "print(id_to_word)"
   ]
  },
  {
   "cell_type": "code",
   "execution_count": 29,
   "metadata": {},
   "outputs": [],
   "source": [
    "#맥락, 타깃을 만드는 함수 구현.\n",
    "#corpus를 주면 맥락과 타깃을 반환함.\n",
    "def create_contexts_target(corpus, window_size = 1):\n",
    "    target = corpus[window_size : -window_size]  #corpus[1:-1]\n",
    "    contexts = []\n",
    "    \n",
    "    for idx in range(window_size, len(corpus) - window_size):  #(1, len(corpus) - 1)\n",
    "        cs = []\n",
    "        for t in range(-window_size, window_size + 1): #range(-1, 2)\n",
    "            if t == 0:\n",
    "                continue\n",
    "            cs.append(corpus[idx + t])   #index를 이용하여 append하기 때문에 list가 담기지 않고 원소 자체가 담기는 것이다.\n",
    "                                         #그래서 [[0, 2]] 식으로 나오는 것이다.\n",
    "            #print(cs)\n",
    "        contexts.append(cs)\n",
    "        #print(contexts)\n",
    "        \n",
    "    return np.array(contexts), np.array(target)"
   ]
  },
  {
   "cell_type": "code",
   "execution_count": 31,
   "metadata": {},
   "outputs": [
    {
     "name": "stdout",
     "output_type": "stream",
     "text": [
      "[[0 2]\n",
      " [1 3]\n",
      " [2 4]\n",
      " [3 1]\n",
      " [4 5]\n",
      " [1 6]]\n",
      "[1 2 3 4 1 5]\n"
     ]
    }
   ],
   "source": [
    "contexts, target = create_contexts_target(corpus, window_size = 1)\n",
    "print(contexts)\n",
    "print(target)                             "
   ]
  },
  {
   "cell_type": "markdown",
   "metadata": {},
   "source": [
    "# 3-3-2. one-hot-encoding으로 변환"
   ]
  },
  {
   "cell_type": "markdown",
   "metadata": {},
   "source": [
    "  - 맥락과 타깃을 one-hot-encoding 변환해야 한다.\n",
    "  - conver_one_hot() 함수 사용"
   ]
  },
  {
   "cell_type": "code",
   "execution_count": 32,
   "metadata": {},
   "outputs": [],
   "source": [
    "#아래 코드로 학습 데이터 준비 완료!\n",
    "import sys\n",
    "sys.path.append('..')\n",
    "from common.util import preprocess, create_contexts_target, convert_one_hot\n",
    "                                                            #convert_one_hot(단어 ID 목록, 어휘 수)\n",
    "\n",
    "text = 'You say goodbye and I say hello.'\n",
    "corpus, word_to_id, id_to_word = preprocess(text)\n",
    "\n",
    "contexts, target = create_contexts_target(corpus, window_size = 1)\n",
    "\n",
    "vocab_size = len(word_to_id)\n",
    "target = convert_one_hot(target, vocab_size)\n",
    "contexts = convert_one_hot(contexts, vocab_size)"
   ]
  },
  {
   "cell_type": "code",
   "execution_count": null,
   "metadata": {},
   "outputs": [],
   "source": []
  }
 ],
 "metadata": {
  "kernelspec": {
   "display_name": "Python 3",
   "language": "python",
   "name": "python3"
  },
  "language_info": {
   "codemirror_mode": {
    "name": "ipython",
    "version": 3
   },
   "file_extension": ".py",
   "mimetype": "text/x-python",
   "name": "python",
   "nbconvert_exporter": "python",
   "pygments_lexer": "ipython3",
   "version": "3.7.3"
  }
 },
 "nbformat": 4,
 "nbformat_minor": 2
}
