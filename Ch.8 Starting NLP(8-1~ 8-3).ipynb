{
 "cells": [
  {
   "cell_type": "markdown",
   "metadata": {},
   "source": [
    "## Practicing NLP"
   ]
  },
  {
   "cell_type": "code",
   "execution_count": null,
   "metadata": {},
   "outputs": [],
   "source": [
    "import os\n",
    "os.getcwd()"
   ]
  },
  {
   "cell_type": "markdown",
   "metadata": {},
   "source": [
    "### 8-2. 한글 자연어처리 연습\n",
    " - konlpy.tag(Kkma, Hannanum, Okt)"
   ]
  },
  {
   "cell_type": "markdown",
   "metadata": {},
   "source": [
    "##### 꼬꼬마 엔진 사용"
   ]
  },
  {
   "cell_type": "code",
   "execution_count": null,
   "metadata": {},
   "outputs": [],
   "source": [
    "#JPype1 버전이 0.7.0이어서 deprecated 오류가 났음(최신 버전이 이전 라이브러리와 호환이 안 됨)\n",
    "#pip install JPype1==0.6.3 으로 버전 다운그레이드하여 Deprecated 오류 없앰.\n",
    "from konlpy.tag import Kkma\n",
    "kkma = Kkma()\n",
    "\n",
    "#문장 분석(마침표 없어도 두 개의 문장으로 구분)\n",
    "kkma.sentences('한국어 분석을 시작합니다 재미있다~~')"
   ]
  },
  {
   "cell_type": "code",
   "execution_count": null,
   "metadata": {},
   "outputs": [],
   "source": [
    "#명사(nouns) 분석\n",
    "kkma.nouns('한국어 분석을 시작합니다 재미있어요~~') #어미가 달라질 때마다 결과가 다르다."
   ]
  },
  {
   "cell_type": "code",
   "execution_count": null,
   "metadata": {},
   "outputs": [],
   "source": [
    "#형태소(pos) 분석\n",
    "#한글은 단어 형태 변화가 많아 형태소 단위의 최소 단위 분석을 해 줘야 함.\n",
    "kkma.pos('한국어 분석을 시작합니다 재미있다~~')"
   ]
  },
  {
   "cell_type": "markdown",
   "metadata": {},
   "source": [
    "##### 한나눔 엔진 사용"
   ]
  },
  {
   "cell_type": "code",
   "execution_count": null,
   "metadata": {},
   "outputs": [],
   "source": [
    "from konlpy.tag import Hannanum\n",
    "hannanum = Hannanum()\n",
    "\n",
    "#명사(nouns) 분석\n",
    "hannanum.nouns('한국어 분석을 시작합니다 재미있어요~~')"
   ]
  },
  {
   "cell_type": "code",
   "execution_count": null,
   "metadata": {},
   "outputs": [],
   "source": [
    "#형태소(morphs) 분석\n",
    "hannanum.morphs('한국어 분석을 시작합니다 재미있어요~~')  #형태소만 가져옴 #꼬꼬마와 분석 결과가 다름."
   ]
  },
  {
   "cell_type": "code",
   "execution_count": null,
   "metadata": {},
   "outputs": [],
   "source": [
    "hannanum.pos('한국어 분석을 시작합니다 재미있다~~') #형태소 + 구분 #꼬꼬마와 분석 결과가 다름."
   ]
  },
  {
   "cell_type": "markdown",
   "metadata": {},
   "source": [
    "##### Okt 엔진 사용(과거의 twitter 엔진)"
   ]
  },
  {
   "cell_type": "code",
   "execution_count": null,
   "metadata": {},
   "outputs": [],
   "source": [
    "from konlpy.tag import Okt\n",
    "t = Okt()\n",
    "\n",
    "t.nouns('한국어 분석을 시작합니다 재미있다~~')"
   ]
  },
  {
   "cell_type": "code",
   "execution_count": null,
   "metadata": {},
   "outputs": [],
   "source": [
    "t.morphs('한국어 분석을 시작합니다 재미있다~~')"
   ]
  },
  {
   "cell_type": "code",
   "execution_count": null,
   "metadata": {},
   "outputs": [],
   "source": [
    "t.pos('한국어 분석을 시작합니다 재미있다~~')"
   ]
  },
  {
   "cell_type": "markdown",
   "metadata": {},
   "source": [
    "### 8-3. WordCloud(영어 자연어처리)"
   ]
  },
  {
   "cell_type": "markdown",
   "metadata": {},
   "source": [
    "### WordCloud : Novel 'Alice'\n",
    " - 1) import libraries\n",
    "   * wordcloud(WordCloud, STOPWORDS)\n",
    "   * numpy\n",
    "   * PIL(Image)\n",
    "   * matplotlib(font_manager, rc)\n",
    "   * matplotlib.pyplot\n",
    "   * platform\n",
    " - 2) image for base"
   ]
  },
  {
   "cell_type": "code",
   "execution_count": null,
   "metadata": {},
   "outputs": [],
   "source": [
    "from wordcloud import WordCloud, STOPWORDS\n",
    "import numpy as np\n",
    "from PIL import Image"
   ]
  },
  {
   "cell_type": "code",
   "execution_count": null,
   "metadata": {},
   "outputs": [],
   "source": [
    "#이상한 나라의 앨리스 영문판 소설 로딩.\n",
    "#앨리스 그림을 불러온다.\n",
    "\n",
    "text = open('../data/09. alice.txt').read()\n",
    "alice_image = np.array(Image.open('../data/09. alice_mask.png'))\n",
    "\n",
    "stopwords = set(STOPWORDS) #카운트 제외 함수 가동\n",
    "stopwords.add('said')      #앨리스 소설에서는 'said'라는 단어가 많이 나와, 카운트에서 제외함."
   ]
  },
  {
   "cell_type": "code",
   "execution_count": null,
   "metadata": {},
   "outputs": [],
   "source": [
    "#matplotlib로 한글 폰트 설정\n",
    "\n",
    "import matplotlib.pyplot as plt\n",
    "import platform\n",
    "\n",
    "path = \"C:/Windows/Fonts/malgun.ttf\"\n",
    "\n",
    "from matplotlib import font_manager, rc\n",
    "if platform.system() == 'Darwin':\n",
    "    rc('font', family = 'AppleGothic')\n",
    "elif platform.system() == 'Windows':\n",
    "    font_name = font_manager.FontProperties(fname = path).get_name()\n",
    "    rc('font', family = font_name)\n",
    "else:\n",
    "    print('Unknown system...')\n",
    "    \n",
    "#그래프가 외부창에서 그려짐.\n",
    "%matplotlib inline"
   ]
  },
  {
   "cell_type": "code",
   "execution_count": null,
   "metadata": {},
   "outputs": [],
   "source": [
    "# 바탕이 될 그림 출력\n",
    "\n",
    "plt.figure(figsize = (8, 8))\n",
    "plt.imshow(alice_image, cmap = plt.cm.gray, interpolation = 'bilinear')\n",
    "plt.axis('off')\n",
    "plt.show()"
   ]
  },
  {
   "cell_type": "code",
   "execution_count": null,
   "metadata": {},
   "outputs": [],
   "source": [
    "#최빈단어 찾기: 단어 카운트 기능은 wordcloud가 제공함\n",
    "wc = WordCloud(font_path = 'C:/Windows/Fonts/malgun.ttf',\n",
    "               background_color = 'white', \n",
    "               max_words = 2000, \n",
    "               mask = alice_image, \n",
    "               stopwords = stopwords)\n",
    "\n",
    "wc = wc.generate(text)  #1위: Alice\n",
    "wc.words_"
   ]
  },
  {
   "cell_type": "code",
   "execution_count": null,
   "metadata": {},
   "outputs": [],
   "source": [
    "plt.figure(figsize = (12, 12))   #그림 사이즈. 가로, 세로\n",
    "plt.imshow(wc, interpolation = 'bilinear')\n",
    "plt.axis('off')  #x, y축 눈금 표시\n",
    "plt.show() "
   ]
  },
  {
   "cell_type": "markdown",
   "metadata": {},
   "source": [
    "### WordCloud : Movie 'Starwars_A New Hope'\n",
    " - 1) import libraries\n",
    "   * wordcloud(WordCloud, STOPWORDS)\n",
    "   * numpy\n",
    "   * PIL(Image)\n",
    "   * matplotlib(font_manager, rc)\n",
    "   * matplotlib.pyplot\n",
    "   * platform\n",
    "   * random\n",
    " - 2) image for base"
   ]
  },
  {
   "cell_type": "code",
   "execution_count": null,
   "metadata": {},
   "outputs": [],
   "source": [
    "from wordcloud import WordCloud, STOPWORDS\n",
    "import numpy as np\n",
    "from PIL import Image\n",
    "\n",
    "#텍스트 파일 불러오기\n",
    "text = open('../data/09. a_new_hope.txt').read()\n",
    "\n",
    "#특수하게 처리할 단어 처리\n",
    "text = text.replace('HAN', 'Han')\n",
    "text = text.replace(\"LUKE'S\", 'Luke')\n",
    "\n",
    "#베이스가 되는 이미지 불러오기\n",
    "mask = np.array(Image.open('../data/09. stormtrooper_mask.png'))"
   ]
  },
  {
   "cell_type": "code",
   "execution_count": null,
   "metadata": {},
   "outputs": [],
   "source": [
    "stopwords = set(STOPWORDS)\n",
    "stopwords.add(\"int\")\n",
    "stopwords.add(\"ext\")"
   ]
  },
  {
   "cell_type": "code",
   "execution_count": null,
   "metadata": {},
   "outputs": [],
   "source": [
    "import matplotlib.pyplot as plt\n",
    "import platform\n",
    "\n",
    "path = \"C:/Windows/Fonts/malgun.ttf\"\n",
    "\n",
    "from matplotlib import font_manager, rc\n",
    "if platform.system() == 'Darwin':\n",
    "    rc('font', family = 'AppleGothic')\n",
    "elif platform.system() == 'Windows':\n",
    "    font_name = font_manager.FontProperties(fname = path).get_name()\n",
    "    rc('font', family = font_name)\n",
    "else:\n",
    "    print('Unknown system...')\n",
    "    \n",
    "#그래프가 외부창에서 그려짐.\n",
    "%matplotlib inline"
   ]
  },
  {
   "cell_type": "code",
   "execution_count": null,
   "metadata": {},
   "outputs": [],
   "source": [
    "# 바탕이 될 그림 출력\n",
    "\n",
    "plt.figure(figsize = (8, 8))\n",
    "plt.imshow(mask, cmap = plt.cm.gray, interpolation = 'bilinear')\n",
    "plt.axis('off')\n",
    "plt.show()"
   ]
  },
  {
   "cell_type": "code",
   "execution_count": null,
   "metadata": {},
   "outputs": [],
   "source": [
    "wc = WordCloud(max_words = 1000,\n",
    "               mask = mask,\n",
    "               stopwords = stopwords,\n",
    "               margin = 10,\n",
    "              random_state = 1).generate(text)\n",
    "\n",
    "default_colors = wc.to_array()"
   ]
  },
  {
   "cell_type": "code",
   "execution_count": null,
   "metadata": {},
   "outputs": [],
   "source": [
    "#전체적으로 색상을 회색으로 채우는 함수 생성\n",
    "\n",
    "import random\n",
    "def grey_color_func(word, font_size, position, orientation, random_state = None, **kwargs):\n",
    "    return 'hsl(0, 0%%, %d%%)' % random.randint(60, 100)"
   ]
  },
  {
   "cell_type": "code",
   "execution_count": null,
   "metadata": {},
   "outputs": [],
   "source": [
    "plt.figure(figsize = (12, 12))\n",
    "plt.imshow(wc.recolor(color_func = grey_color_func, random_state = 3), \n",
    "           interpolation = 'bilinear')\n",
    "plt.axis('off')\n",
    "plt.show()"
   ]
  }
 ],
 "metadata": {
  "kernelspec": {
   "display_name": "Python 3",
   "language": "python",
   "name": "python3"
  },
  "language_info": {
   "codemirror_mode": {
    "name": "ipython",
    "version": 3
   },
   "file_extension": ".py",
   "mimetype": "text/x-python",
   "name": "python",
   "nbconvert_exporter": "python",
   "pygments_lexer": "ipython3",
   "version": "3.7.3"
  }
 },
 "nbformat": 4,
 "nbformat_minor": 2
}
