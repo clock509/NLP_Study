{
 "cells": [
  {
   "cell_type": "markdown",
   "metadata": {},
   "source": [
    "# 2-4-1. 상호정보량"
   ]
  },
  {
   "cell_type": "markdown",
   "metadata": {},
   "source": [
    "#### 동시발생 행렬의 원소: 두 단어가 동시에 발생한 횟수를 나타냄.\n",
    " - 단어 빈도만으로는 그리 의미있는 특징을 찾을 수 없음(ex. \"the\", \"car\").\n",
    " - 가장 중요한 것은 단어 간의 관련성이다. \n",
    " - \"car\"는 \"drive\"와 관련이 깊다. 그러나 이때 빈도만을 고려한다면, \"the\"와 더 관련성이 강하다고 나올 것이다."
   ]
  },
  {
   "cell_type": "markdown",
   "metadata": {},
   "source": [
    "#### 문제 해결의 열쇠: 점별 상호정보량(Pointwise Mutual Information, PMI)\n",
    " - PMI(x, y) = log2(  P(x, y) / P(x)P(y)  )\n",
    " -           = log2(  n * C(x, y) / C(x)C(y)  ) \n",
    "\n",
    "   * P(x, y) : x와 y가 동시발생할 확률, P(x) & P(y): 단어 x 또는 y가 출현할 확률.\n",
    "   * C(x, y) : x와 y가 동시발생하는 횟수, C(x) & C(y): 단어 x 또는 y가 출현하는 횟수,\n",
    "   * n : 말뭉치 내 단어 개수.\n",
    "    \n",
    " - PMI의 장점: 단어가 단독으로 출현하는 횟수를 고려함으로써 동시발생 횟수만 고려할 시의 문제 해결.\n",
    " - PMI의 단점: x와 y가 동시발생하는 횟수가 0이면 PMI(x, y)가 음의 무한대가 되어버린다. "
   ]
  },
  {
   "cell_type": "markdown",
   "metadata": {},
   "source": [
    "#### PMI의 보완: 양의 상호정보량(Positive PMI: PPMI)\n",
    " - PPMI(x, y) = max(0, PMI(x, y))\n",
    "\n",
    " - 단어 사이의 관련성을 0 이상의 실수로 나타냄.\n",
    " - PMI가 음수일 때는 0으로 취급."
   ]
  },
  {
   "cell_type": "code",
   "execution_count": null,
   "metadata": {},
   "outputs": [],
   "source": []
  },
  {
   "cell_type": "code",
   "execution_count": 3,
   "metadata": {},
   "outputs": [],
   "source": [
    "#동시발생 행렬을 PPMI행렬로 변환하는 함수 구현\n",
    "\n",
    "#전처리 함수 로딩\n",
    "import numpy as np\n",
    "\n",
    "def preprocess(text):\n",
    "    text = text.lower()\n",
    "    text = text.replace('.', ' .')\n",
    "    words = text.split(' ')\n",
    "    \n",
    "    word_to_id = {}\n",
    "    id_to_word = {}\n",
    "    for word in words:\n",
    "        if word not in word_to_id:\n",
    "            new_id = len(word_to_id)\n",
    "            word_to_id[word] = new_id\n",
    "            id_to_word[new_id] = word\n",
    "        \n",
    "    corpus = np.array([word_to_id[w] for w in words])\n",
    "    \n",
    "    return corpus, word_to_id, id_to_word"
   ]
  },
  {
   "cell_type": "code",
   "execution_count": 4,
   "metadata": {},
   "outputs": [],
   "source": [
    "#PPMI행렬로 변환하는 함수 구현\n",
    "#C : 동시발생행렬\n",
    "#verbose: 진행상황 출력 여부를 결정하는 플래그. 큰 말뭉치를 다룰 때 True로 설정.\n",
    "#eps: pmi가 0이 되는 걸 막기 위해 추가하는 작은 값.\n",
    "def ppmi(C, verbose = False, eps = 1e-8):\n",
    "    M = np.zeros_like(C, dtype = np.float32)\n",
    "    N = np.sum(C)\n",
    "    S = np.sum(C, axis = 0)\n",
    "    total = C.shape[0] * C.shape[1]\n",
    "    cnt = 0\n",
    "    \n",
    "    for i in range(C.shape[0]):\n",
    "        for j in range(C.shape[1]):\n",
    "            pmi = np.log2( C[i, j] * N / (S[j] * S[i]) + eps)\n",
    "            M[i, j] = max(0, pmi)\n",
    "            \n",
    "            if verbose:\n",
    "                cnt += 1\n",
    "                if cnt % (total // 100) == 0:\n",
    "                    print('%.1f%%' %(100 * cnt / total))\n",
    "\n",
    "    return M"
   ]
  },
  {
   "cell_type": "code",
   "execution_count": 6,
   "metadata": {},
   "outputs": [
    {
     "name": "stdout",
     "output_type": "stream",
     "text": [
      "동시발생 행렬\n",
      "[[0 1 0 0 0 0 0]\n",
      " [1 0 1 0 1 1 0]\n",
      " [0 1 0 1 0 0 0]\n",
      " [0 0 1 0 1 0 0]\n",
      " [0 1 0 1 0 0 0]\n",
      " [0 1 0 0 0 0 1]\n",
      " [0 0 0 0 0 1 0]]\n",
      "--------------------------------------------------\n",
      "PPMI\n",
      "[[0.    1.807 0.    0.    0.    0.    0.   ]\n",
      " [1.807 0.    0.807 0.    0.807 0.807 0.   ]\n",
      " [0.    0.807 0.    1.807 0.    0.    0.   ]\n",
      " [0.    0.    1.807 0.    1.807 0.    0.   ]\n",
      " [0.    0.807 0.    1.807 0.    0.    0.   ]\n",
      " [0.    0.807 0.    0.    0.    0.    2.807]\n",
      " [0.    0.    0.    0.    0.    2.807 0.   ]]\n"
     ]
    }
   ],
   "source": [
    "#ppmi 함수 활용 예제.\n",
    "import sys\n",
    "sys.path.append('..')\n",
    "import numpy as np\n",
    "from common.util import preprocess, create_co_matrix, cos_similarity, ppmi\n",
    "\n",
    "text = 'You say goodbye and I say hello.'\n",
    "corpus, word_to_id, id_to_word = preprocess(text)\n",
    "vocab_size = len(word_to_id)\n",
    "C = create_co_matrix(corpus, vocab_size)\n",
    "W = ppmi(C)\n",
    "\n",
    "np.set_printoptions(precision = 3)  #유효 자릿수를 세 자리로 표시\n",
    "print(\"동시발생 행렬\")\n",
    "print(C)\n",
    "print(\"-\" * 50)\n",
    "print('PPMI')\n",
    "print(W)"
   ]
  },
  {
   "cell_type": "markdown",
   "metadata": {},
   "source": [
    "#### PPMI의 보완: 양의 상호정보량(Positive PMI: PPMI)\n",
    " - 어휘 수만큼 차원이 늘어남(10만개짜리 코퍼스는 10만 차원)\n",
    " - 원소가 0에 가까울수록 중요도가 떨어지는 원소임. 그래서 PPMI는 노이즈에 취약함.\n",
    " - 적절한 수의 차원을 갖도록 차원 감소가 필요하다."
   ]
  },
  {
   "cell_type": "markdown",
   "metadata": {},
   "source": [
    "# 2-4-2. 차원 감소"
   ]
  },
  {
   "cell_type": "markdown",
   "metadata": {},
   "source": [
    "#### 차원 감소(dimensionality reduction)\n",
    " - 중요한 정보는 최대한 유지하면서 벡터의 차원을 줄이는 것."
   ]
  },
  {
   "cell_type": "markdown",
   "metadata": {},
   "source": [
    " - 대표적인 차원감소 방법: 특잇값분해(SVD, Singular Value Decomposition)"
   ]
  },
  {
   "cell_type": "markdown",
   "metadata": {},
   "source": [
    "# 2-4-3. SVD에 의한 차원 감소"
   ]
  },
  {
   "cell_type": "code",
   "execution_count": 7,
   "metadata": {},
   "outputs": [
    {
     "name": "stdout",
     "output_type": "stream",
     "text": [
      "[0 1 0 0 0 0 0]\n",
      "[0.    1.807 0.    0.    0.    0.    0.   ]\n",
      "[ 0.000e+00  3.409e-01 -1.205e-01 -3.886e-16 -1.110e-16 -9.323e-01\n",
      " -2.426e-17]\n"
     ]
    }
   ],
   "source": [
    "#동시발생 행렬을 만들어 PPMI 행렬로 변환한 다음 SVD 적용\n",
    "import sys\n",
    "sys.path.append('..')\n",
    "import numpy as np\n",
    "import matplotlib.pyplot as plt\n",
    "from common.util import preprocess, create_co_matrix, ppmi\n",
    "\n",
    "text = 'You say goodbye and I say hello.'\n",
    "corpus, word_to_id, id_to_word = preprocess(text)\n",
    "vocab_size = len(word_to_id)\n",
    "C = create_co_matrix(corpus, vocab_size, window_size = 1)\n",
    "W = ppmi(C)\n",
    "\n",
    "#SVD\n",
    "U, S, V = np.linalg.svd(W)   #변환된 밀집벡터는 U에 저장됨.\n",
    "print(C[0])  #동시발생 행렬\n",
    "print(W[0])  #PPMI 행렬\n",
    "print(U[0])  #SVD"
   ]
  },
  {
   "cell_type": "code",
   "execution_count": 8,
   "metadata": {},
   "outputs": [
    {
     "name": "stdout",
     "output_type": "stream",
     "text": [
      "[0.    0.341]\n"
     ]
    }
   ],
   "source": [
    "#밀집벡터의 차원을 2차원으로 감소시키기\n",
    "print(U[0, :2])"
   ]
  },
  {
   "cell_type": "code",
   "execution_count": 10,
   "metadata": {},
   "outputs": [
    {
     "data": {
      "image/png": "[encoded data removed]",
      "text/plain": [
       "<Figure size 432x288 with 1 Axes>"
      ]
     },
     "metadata": {
      "needs_background": "light"
     },
     "output_type": "display_data"
    }
   ],
   "source": [
    "#각 단어를 2차원 벡터로 표현 후 그래프로 그려보자.\n",
    "\n",
    "for word, word_id in word_to_id.items():\n",
    "    plt.annotate(word, (U[word_id, 0], U[word_id, 1]))  #plt.annotate(x, y): 좌표 x, y지점에 word에 담긴 텍스트를 그림.\n",
    "    \n",
    "plt.scatter(U[:, 0], U[:, 1], alpha = 0.5)\n",
    "plt.show()"
   ]
  },
  {
   "cell_type": "markdown",
   "metadata": {},
   "source": [
    "# 2-4-4. PTB 데이터셋"
   ]
  },
  {
   "cell_type": "code",
   "execution_count": 11,
   "metadata": {},
   "outputs": [
    {
     "name": "stdout",
     "output_type": "stream",
     "text": [
      "Downloading ptb.train.txt ... \n",
      "Done\n",
      "말뭉치 크기: 929589\n",
      "corpus[:30]:  [ 0  1  2  3  4  5  6  7  8  9 10 11 12 13 14 15 16 17 18 19 20 21 22 23\n",
      " 24 25 26 27 28 29]\n",
      "\n",
      "id_to_word[0]:  aer\n",
      "id_to_word[1]:  banknote\n",
      "id_to_word[2]:  berlitz\n",
      "\n",
      "word_to_id['car']:  3856\n",
      "word_to_id['happy']:  4428\n",
      "word_to_id['lexus']:  7426\n"
     ]
    }
   ],
   "source": [
    "#PTB 말뭉치를 활용한 SVD 실습\n",
    "#PTB 말뭉치 불러오기 및 데이터셋 설명\n",
    "\n",
    "import sys\n",
    "sys.path.append('..')\n",
    "from dataset import ptb\n",
    "\n",
    "corpus, word_to_id, id_to_word = ptb.load_data('train') #ptb.load_data('train'): 데이터 읽어들이기.\n",
    "                                                        #인수 지정 가능(train, test, valid 중)\n",
    "print('말뭉치 크기:', len(corpus))\n",
    "print('corpus[:30]: ', corpus[:30])     #corpus: 단어 ID 목록 저장\n",
    "print()\n",
    "print('id_to_word[0]: ', id_to_word[0]) #id_to_word: ID를 단어로 변환하는 딕셔너리\n",
    "print('id_to_word[1]: ', id_to_word[1])\n",
    "print('id_to_word[2]: ', id_to_word[2])\n",
    "print()\n",
    "print(\"word_to_id['car']: \", word_to_id['car']) #word_to_id: 단어를 ID로 변환하는 딕셔너리\n",
    "print(\"word_to_id['happy']: \", word_to_id['happy'])\n",
    "print(\"word_to_id['lexus']: \", word_to_id['lexus'])"
   ]
  },
  {
   "cell_type": "markdown",
   "metadata": {},
   "source": [
    "# 2-4-5. PTB 데이터셋 평가"
   ]
  },
  {
   "cell_type": "code",
   "execution_count": 12,
   "metadata": {},
   "outputs": [
    {
     "name": "stdout",
     "output_type": "stream",
     "text": [
      "동시발생 수 계산...\n",
      "PPMI 계산...\n"
     ]
    },
    {
     "name": "stderr",
     "output_type": "stream",
     "text": [
      "..\\common\\util.py:141: RuntimeWarning: overflow encountered in long_scalars\n",
      "  pmi = np.log2(C[i, j] * N / (S[j]*S[i]) + eps)\n",
      "..\\common\\util.py:141: RuntimeWarning: invalid value encountered in log2\n",
      "  pmi = np.log2(C[i, j] * N / (S[j]*S[i]) + eps)\n"
     ]
    },
    {
     "name": "stdout",
     "output_type": "stream",
     "text": [
      "1.0% 완료\n",
      "2.0% 완료\n",
      "3.0% 완료\n",
      "4.0% 완료\n",
      "5.0% 완료\n",
      "6.0% 완료\n",
      "7.0% 완료\n",
      "8.0% 완료\n",
      "9.0% 완료\n",
      "10.0% 완료\n",
      "11.0% 완료\n",
      "12.0% 완료\n",
      "13.0% 완료\n",
      "14.0% 완료\n",
      "15.0% 완료\n",
      "16.0% 완료\n",
      "17.0% 완료\n",
      "18.0% 완료\n",
      "19.0% 완료\n",
      "20.0% 완료\n",
      "21.0% 완료\n",
      "22.0% 완료\n",
      "23.0% 완료\n",
      "24.0% 완료\n",
      "25.0% 완료\n",
      "26.0% 완료\n",
      "27.0% 완료\n",
      "28.0% 완료\n",
      "29.0% 완료\n",
      "30.0% 완료\n",
      "31.0% 완료\n",
      "32.0% 완료\n",
      "33.0% 완료\n",
      "34.0% 완료\n",
      "35.0% 완료\n",
      "36.0% 완료\n",
      "37.0% 완료\n",
      "38.0% 완료\n",
      "39.0% 완료\n",
      "40.0% 완료\n",
      "41.0% 완료\n",
      "42.0% 완료\n",
      "43.0% 완료\n",
      "44.0% 완료\n",
      "45.0% 완료\n",
      "46.0% 완료\n",
      "47.0% 완료\n",
      "48.0% 완료\n",
      "49.0% 완료\n",
      "50.0% 완료\n",
      "51.0% 완료\n",
      "52.0% 완료\n",
      "53.0% 완료\n",
      "54.0% 완료\n",
      "55.0% 완료\n",
      "56.0% 완료\n",
      "57.0% 완료\n",
      "58.0% 완료\n",
      "59.0% 완료\n",
      "60.0% 완료\n",
      "61.0% 완료\n",
      "62.0% 완료\n",
      "63.0% 완료\n",
      "64.0% 완료\n",
      "65.0% 완료\n",
      "66.0% 완료\n",
      "67.0% 완료\n",
      "68.0% 완료\n",
      "69.0% 완료\n",
      "70.0% 완료\n",
      "71.0% 완료\n",
      "72.0% 완료\n",
      "73.0% 완료\n",
      "74.0% 완료\n",
      "75.0% 완료\n",
      "76.0% 완료\n",
      "77.0% 완료\n",
      "78.0% 완료\n",
      "79.0% 완료\n",
      "80.0% 완료\n",
      "81.0% 완료\n",
      "82.0% 완료\n",
      "83.0% 완료\n",
      "84.0% 완료\n",
      "85.0% 완료\n",
      "86.0% 완료\n",
      "87.0% 완료\n",
      "88.0% 완료\n",
      "89.0% 완료\n",
      "90.0% 완료\n",
      "91.0% 완료\n",
      "92.0% 완료\n",
      "93.0% 완료\n",
      "94.0% 완료\n",
      "95.0% 완료\n",
      "96.0% 완료\n",
      "97.0% 완료\n",
      "98.0% 완료\n",
      "99.0% 완료\n",
      "100.0% 완료\n",
      "SVD 계산...\n",
      "\n",
      "[query] you\n",
      " i: 0.7404420971870422\n",
      " we: 0.655971884727478\n",
      " do: 0.5453001856803894\n",
      " anybody: 0.5433499813079834\n",
      " 'll: 0.518355131149292\n",
      "\n",
      "[query] year\n",
      " month: 0.7174170017242432\n",
      " earlier: 0.6844807267189026\n",
      " last: 0.6540148258209229\n",
      " quarter: 0.6403070688247681\n",
      " next: 0.6093631386756897\n",
      "\n",
      "[query] car\n",
      " auto: 0.633910596370697\n",
      " luxury: 0.5548640489578247\n",
      " vehicle: 0.5398738980293274\n",
      " domestic: 0.48612937331199646\n",
      " cars: 0.4842919111251831\n",
      "\n",
      "[query] toyota\n",
      " motor: 0.6570852994918823\n",
      " nissan: 0.6323334574699402\n",
      " motors: 0.6010625958442688\n",
      " honda: 0.5747189521789551\n",
      " lexus: 0.5658286809921265\n"
     ]
    }
   ],
   "source": [
    "#큰 행렬에 SVD 적용.\n",
    "#시간 및 메모리 경량화를 위해 scikit learn 모듈 사용\n",
    "import sys\n",
    "sys.path.append('..')\n",
    "import numpy as np\n",
    "from common.util import most_similar, create_co_matrix, ppmi\n",
    "from dataset import ptb\n",
    "\n",
    "window_size = 2\n",
    "wordvec_size = 100\n",
    "\n",
    "corpus, word_to_id, id_to_word = ptb.load_data('train')\n",
    "vocab_size = len(word_to_id)\n",
    "print('동시발생 수 계산...')\n",
    "C = create_co_matrix(corpus, vocab_size, window_size)\n",
    "print('PPMI 계산...')\n",
    "W = ppmi(C, verbose = True)\n",
    "\n",
    "print('SVD 계산...')\n",
    "try:\n",
    "    #truncated SVD(더 빠름)            #↓ 무작위 수를 사용한 Truncated SVD ==> 실행 결과가 매번 다름.\n",
    "    from sklearn.utils.extmath import randomized_svd  #특잇값이 큰 것들만 계산하여 기본 SVD보다 속도가 빠름.\n",
    "    U, S, V = randomized_svd(W, n_components = wordvec_size, n_iter = 5, random_state = None)\n",
    "    \n",
    "except ImportError:\n",
    "    #SVD(느림)\n",
    "    U, S, V = np.linalg.svd(W)\n",
    "    \n",
    "word_vecs = U[:, :wordvec_size]\n",
    "\n",
    "querys = ['you', 'year', 'car', 'toyota']\n",
    "for query in querys:\n",
    "    most_similar(query, word_to_id, id_to_word, word_vecs, top = 5)\n",
    "    "
   ]
  },
  {
   "cell_type": "markdown",
   "metadata": {},
   "source": [
    "# 정리\n",
    " - '단어의 의미'를 컴퓨터에게 이해시키는 과정.\n",
    "  * 1. 시소러스 기법: 사람이 수작업으로 단어들의 관련성을 정의.\n",
    "  * 2. 통계 기반 기법: 말뭉치 안의 각 단어의 주변 단어들의 빈도를 집계(동시발생 행렬), 단어의 의미를 자동으로 추출한 후 벡터로 표현\n",
    "\n",
    " - 통계 기반 기법: 의미, 문법적 용법이 비슷한 단어들이 벡터 공간에서도 서로 가까이 모여있음을 보여줌.\n",
    "  * 단어의 동시발생 행렬을 생성.\n",
    "  * 동시발생 행렬을 PPMI로 변환.\n",
    "  * SVD를 이용해 차원 감소.\n",
    "\n",
    " - 전처리 함수 구현\n",
    "  * 벡터 간 유사도 측정: cos_similarity()\n",
    "  * 유사 단어 랭킹 표시: most_similar()"
   ]
  }
 ],
 "metadata": {
  "kernelspec": {
   "display_name": "Python 3",
   "language": "python",
   "name": "python3"
  },
  "language_info": {
   "codemirror_mode": {
    "name": "ipython",
    "version": 3
   },
   "file_extension": ".py",
   "mimetype": "text/x-python",
   "name": "python",
   "nbconvert_exporter": "python",
   "pygments_lexer": "ipython3",
   "version": "3.7.3"
  }
 },
 "nbformat": 4,
 "nbformat_minor": 2
}
